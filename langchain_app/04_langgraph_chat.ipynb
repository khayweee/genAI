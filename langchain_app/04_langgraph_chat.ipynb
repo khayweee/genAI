{
 "cells": [
  {
   "cell_type": "markdown",
   "id": "ff15ad5c",
   "metadata": {},
   "source": [
    "# Building A chatbot with LangGraph\n",
    "LangGraph offers Message Persistence through a built-in persistence layer.\n",
    "- Ideal for chat applications that support multiple conversational turns\n",
    "\n",
    "Wrapping our chat model in a minimal LangGraph application allows us to automatically persist the message history, simplifying the development of multi-turn applications"
   ]
  },
  {
   "cell_type": "code",
   "execution_count": 15,
   "id": "9f59bb53",
   "metadata": {},
   "outputs": [],
   "source": [
    "from langgraph.checkpoint.memory import MemorySaver\n",
    "from langgraph.graph import START, MessagesState, StateGraph\n",
    "from langchain_core.messages import HumanMessage, SystemMessage, AIMessage\n",
    "from langchain.chat_models import init_chat_model"
   ]
  },
  {
   "cell_type": "code",
   "execution_count": 189,
   "id": "60d959ef",
   "metadata": {},
   "outputs": [],
   "source": [
    "TEMPERATURE = 0.2\n",
    "NUM_PREDICT = 256\n",
    "MODEL = \"gemma3:12b-it-qat\"\n",
    "\n",
    "model = init_chat_model(\n",
    "    model=MODEL,\n",
    "    temperature=TEMPERATURE,\n",
    "    num_predict=NUM_PREDICT,\n",
    "    use_gpu=True,\n",
    "    model_provider='ollama',\n",
    ")"
   ]
  },
  {
   "cell_type": "markdown",
   "id": "be2af98a",
   "metadata": {},
   "source": [
    "A LangGraph state requires a state schema so it knows how the current conversational state is structured.  \n",
    "\n",
    "The code that defines the state schema is:  \n",
    "\n",
    "```python\n",
    "workflow = StateGraph(state_schema=MessagesState)\n",
    "```\n",
    "\n",
    "> **Note**:  \n",
    "> The `MessagesState` class is a `TypedDict` that defines the structure of the state used in the workflow.  \n",
    "> Under the hood, it looks like this:  \n",
    "> ```python\n",
    "> class MessagesState(TypedDict):\n",
    ">     messages: Annotated[list[AnyMessage], add_messages]\n",
    "> ```\n",
    "> Here, `messages` is a list of `AnyMessage` objects, annotated with the `add_messages` function."
   ]
  },
  {
   "cell_type": "code",
   "execution_count": 46,
   "id": "d08ae3d1",
   "metadata": {},
   "outputs": [],
   "source": [
    "# Define a new Graph\n",
    "workflow = StateGraph(state_schema=MessagesState)"
   ]
  },
  {
   "cell_type": "code",
   "execution_count": 47,
   "id": "9fa14de6",
   "metadata": {},
   "outputs": [],
   "source": [
    "def call_model(state: MessagesState):\n",
    "    print(state)\n",
    "    response = model.invoke(state['messages'])\n",
    "    return {\"messages\": response}"
   ]
  },
  {
   "cell_type": "code",
   "execution_count": 48,
   "id": "37aff27b",
   "metadata": {},
   "outputs": [],
   "source": [
    "# Define the single node in the graph\n",
    "workflow.add_node(\"model\", call_model)\n",
    "workflow.add_edge(START, \"model\")\n",
    "\n",
    "# Add Memory\n",
    "memory = MemorySaver()\n",
    "app = workflow.compile(checkpointer=memory)"
   ]
  },
  {
   "cell_type": "code",
   "execution_count": 49,
   "id": "6f310687",
   "metadata": {},
   "outputs": [
    {
     "data": {
      "image/png": "[encoded data removed]",
      "text/plain": [
       "<langgraph.graph.state.CompiledStateGraph object at 0x1060cd810>"
      ]
     },
     "execution_count": 49,
     "metadata": {},
     "output_type": "execute_result"
    }
   ],
   "source": [
    "app"
   ]
  },
  {
   "cell_type": "markdown",
   "id": "81fd50f8",
   "metadata": {},
   "source": [
    "We now need to create a config that we pass into the runnable every time. This config contains information that is not part of the input directly, but is still useful. In this case, we want to include a thread_id. This should look like:"
   ]
  },
  {
   "cell_type": "code",
   "execution_count": 50,
   "id": "fbb29c2a",
   "metadata": {},
   "outputs": [],
   "source": [
    "config = {\"configurable\": {\"thread_id\": \"abc321\"}}"
   ]
  },
  {
   "cell_type": "code",
   "execution_count": 51,
   "id": "75374d18",
   "metadata": {},
   "outputs": [
    {
     "name": "stdout",
     "output_type": "stream",
     "text": [
      "================================\u001b[1m Human Message \u001b[0m=================================\n",
      "\n",
      "hi! I'm bob\n",
      "{'messages': [HumanMessage(content=\"hi! I'm bob\", additional_kwargs={}, response_metadata={}, id='e628a534-9a0d-4ab1-b866-f3afe63487aa')]}\n",
      "==================================\u001b[1m Ai Message \u001b[0m==================================\n",
      "\n",
      "Hi Bob! It's nice to meet you! 😊 \n",
      "\n",
      "What can I do for you today?\n"
     ]
    }
   ],
   "source": [
    "input_message = {\"role\": \"user\", \"content\": \"hi! I'm bob\"} # Same as HumanMessage(content=\"hi! I'm bob\")\n",
    "for chunk in app.stream({\"messages\": [input_message]}, stream_mode=\"values\", config=config):\n",
    "    chunk[\"messages\"][-1].pretty_print()"
   ]
  },
  {
   "cell_type": "code",
   "execution_count": 52,
   "id": "11bf1713",
   "metadata": {},
   "outputs": [
    {
     "name": "stdout",
     "output_type": "stream",
     "text": [
      "================================\u001b[1m Human Message \u001b[0m=================================\n",
      "\n",
      "what's my name?\n",
      "{'messages': [HumanMessage(content=\"hi! I'm bob\", additional_kwargs={}, response_metadata={}, id='e628a534-9a0d-4ab1-b866-f3afe63487aa'), AIMessage(content=\"Hi Bob! It's nice to meet you! 😊 \\n\\nWhat can I do for you today?\", additional_kwargs={}, response_metadata={'model': 'gemma3:12b-it-qat', 'created_at': '2025-04-22T03:18:38.928591Z', 'done': True, 'done_reason': 'stop', 'total_duration': 5615774750, 'load_duration': 53498875, 'prompt_eval_count': 15, 'prompt_eval_duration': 3516674708, 'eval_count': 23, 'eval_duration': 2041915458, 'model_name': 'gemma3:12b-it-qat'}, id='run-ed70b540-7732-4307-9ffc-a0d067a33b4c-0', usage_metadata={'input_tokens': 15, 'output_tokens': 23, 'total_tokens': 38}), HumanMessage(content=\"what's my name?\", additional_kwargs={}, response_metadata={}, id='05b429bd-3551-43c1-9b1f-27f4e381d888')]}\n",
      "==================================\u001b[1m Ai Message \u001b[0m==================================\n",
      "\n",
      "Your name is Bob! You just told me that! 😄\n"
     ]
    }
   ],
   "source": [
    "input_message = {\"role\": \"user\", \"content\": \"what's my name?\"}\n",
    "output = []\n",
    "for chunk in app.stream({\"messages\": [input_message]}, stream_mode=\"values\", config=config):\n",
    "    output.append(chunk['messages'][-1])\n",
    "    chunk[\"messages\"][-1].pretty_print()"
   ]
  },
  {
   "cell_type": "code",
   "execution_count": 53,
   "id": "b598b1e9",
   "metadata": {},
   "outputs": [
    {
     "name": "stdout",
     "output_type": "stream",
     "text": [
      "================================\u001b[1m Human Message \u001b[0m=================================\n",
      "\n",
      "what's my name?\n",
      "==================================\u001b[1m Ai Message \u001b[0m==================================\n",
      "\n",
      "Your name is Bob! You just told me that! 😄\n"
     ]
    }
   ],
   "source": [
    "for text in output:\n",
    "    text.pretty_print()"
   ]
  },
  {
   "cell_type": "markdown",
   "id": "3c64678c",
   "metadata": {},
   "source": [
    "# Adding Prompt Template\n",
    "Prompt templates help to turn raw user information into a format that the LLM can work with.  \n",
    "\n",
    "In this case the raw user is just a message, which we are passing to the LLM. "
   ]
  },
  {
   "cell_type": "code",
   "execution_count": 56,
   "id": "e4ecb99a",
   "metadata": {},
   "outputs": [],
   "source": [
    "from langchain_core.prompts import ChatPromptTemplate, MessagesPlaceholder\n",
    "from langchain_core.messages import SystemMessage, HumanMessage, AIMessage\n",
    "from langgraph.graph import MessagesState, StateGraph, START\n",
    "from langchain_core.prompts import ChatPromptTemplate, MessagesPlaceholder\n",
    "from langgraph.checkpoint.memory import MemorySaver\n",
    "\n",
    "prompt_template = ChatPromptTemplate.from_messages([\n",
    "    SystemMessage(content=\"You talk like a pirate. Answer all questions to the best of your ability\"),\n",
    "    MessagesPlaceholder(variable_name=\"messages\"),\n",
    "])"
   ]
  },
  {
   "cell_type": "code",
   "execution_count": 57,
   "id": "f4f65c42",
   "metadata": {},
   "outputs": [
    {
     "name": "stdout",
     "output_type": "stream",
     "text": [
      "================================\u001b[1m System Message \u001b[0m================================\n",
      "\n",
      "You talk like a pirate. Answer all questions to the best of your ability\n",
      "\n",
      "=============================\u001b[1m Messages Placeholder \u001b[0m=============================\n",
      "\n",
      "\u001b[33;1m\u001b[1;3m{messages}\u001b[0m\n"
     ]
    }
   ],
   "source": [
    "prompt_template.pretty_print()"
   ]
  },
  {
   "cell_type": "code",
   "execution_count": 63,
   "id": "e0800373",
   "metadata": {},
   "outputs": [],
   "source": [
    "workflow = StateGraph(state_schema=MessagesState)\n",
    "\n",
    "def call_model(state: MessagesState):\n",
    "    prompt = prompt_template.invoke(state)\n",
    "    response = model.invoke(prompt)\n",
    "    return {\"messages\": response}\n"
   ]
  },
  {
   "cell_type": "code",
   "execution_count": 64,
   "id": "6595b8ec",
   "metadata": {},
   "outputs": [],
   "source": [
    "workflow.add_node(\"model\", call_model)\n",
    "workflow.add_edge(START, \"model\")\n",
    "memory = MemorySaver()\n",
    "app = workflow.compile(checkpointer=memory)\n"
   ]
  },
  {
   "cell_type": "code",
   "execution_count": 65,
   "id": "3ef99d5a",
   "metadata": {},
   "outputs": [
    {
     "data": {
      "image/png": "[encoded data removed]",
      "text/plain": [
       "<langgraph.graph.state.CompiledStateGraph object at 0x117cb4160>"
      ]
     },
     "execution_count": 65,
     "metadata": {},
     "output_type": "execute_result"
    }
   ],
   "source": [
    "app"
   ]
  },
  {
   "cell_type": "code",
   "execution_count": 66,
   "id": "f8b29f58",
   "metadata": {},
   "outputs": [
    {
     "name": "stdout",
     "output_type": "stream",
     "text": [
      "================================\u001b[1m Human Message \u001b[0m=================================\n",
      "\n",
      "Who is the pope?\n",
      "==================================\u001b[1m Ai Message \u001b[0m==================================\n",
      "\n",
      "Ahoy there, matey! The Pope, ye ask? 'Tis Pope Francis, he be! A grand and powerful figure, leadin' the Catholic Church, a flock o' believers spread across the seven seas. He be the Bishop o' Rome, and holds a right proper position o' authority, aye! \n",
      "\n",
      "He's a good sort, from what I hear, preachin' peace and kindness. A far cry from plunderin' and pillagin', that's for sure! Arrr!\n"
     ]
    }
   ],
   "source": [
    "config = {\"configurable\": {\"thread_id\": \"1\"}}\n",
    "query = \"Who is the pope?\"\n",
    "input_message = [HumanMessage(content=query)]\n",
    "\n",
    "output = []\n",
    "for chunk in app.stream({\"messages\": input_message}, stream_mode=\"values\", config=config):\n",
    "    message = chunk[\"messages\"][-1]\n",
    "    output.append(message)\n",
    "    message.pretty_print()"
   ]
  },
  {
   "cell_type": "code",
   "execution_count": 67,
   "id": "5ddd311e",
   "metadata": {},
   "outputs": [
    {
     "data": {
      "text/plain": [
       "[HumanMessage(content='Who is the pope?', additional_kwargs={}, response_metadata={}, id='787912c2-e24c-46ca-99e6-295f8aec11c4'),\n",
       " AIMessage(content=\"Ahoy there, matey! The Pope, ye ask? 'Tis Pope Francis, he be! A grand and powerful figure, leadin' the Catholic Church, a flock o' believers spread across the seven seas. He be the Bishop o' Rome, and holds a right proper position o' authority, aye! \\n\\nHe's a good sort, from what I hear, preachin' peace and kindness. A far cry from plunderin' and pillagin', that's for sure! Arrr!\", additional_kwargs={}, response_metadata={'model': 'gemma3:12b-it-qat', 'created_at': '2025-04-22T06:02:32.163697Z', 'done': True, 'done_reason': 'stop', 'total_duration': 17424973500, 'load_duration': 113931875, 'prompt_eval_count': 34, 'prompt_eval_duration': 4899421833, 'eval_count': 107, 'eval_duration': 12395823125, 'model_name': 'gemma3:12b-it-qat'}, id='run-21442ed2-2209-4e4d-9536-b10e46faf6b8-0', usage_metadata={'input_tokens': 34, 'output_tokens': 107, 'total_tokens': 141})]"
      ]
     },
     "execution_count": 67,
     "metadata": {},
     "output_type": "execute_result"
    }
   ],
   "source": [
    "output"
   ]
  },
  {
   "cell_type": "markdown",
   "id": "33f8eeb8",
   "metadata": {},
   "source": [
    "### Adding more variables into prompt"
   ]
  },
  {
   "cell_type": "code",
   "execution_count": 145,
   "id": "9125a74a",
   "metadata": {},
   "outputs": [],
   "source": [
    "prompt_template = ChatPromptTemplate.from_messages(\n",
    "    [\n",
    "        (\n",
    "            \"system\",\n",
    "            \"You are a helpful assistant. Answer all questions to the best of your ability in {language}.\",\n",
    "        ),\n",
    "        MessagesPlaceholder(variable_name=\"messages\"),\n",
    "    ]\n",
    ")\n"
   ]
  },
  {
   "cell_type": "code",
   "execution_count": 146,
   "id": "a95015b2",
   "metadata": {},
   "outputs": [
    {
     "name": "stdout",
     "output_type": "stream",
     "text": [
      "================================\u001b[1m System Message \u001b[0m================================\n",
      "\n",
      "You are a helpful assistant. Answer all questions to the best of your ability in \u001b[33;1m\u001b[1;3m{language}\u001b[0m.\n",
      "\n",
      "=============================\u001b[1m Messages Placeholder \u001b[0m=============================\n",
      "\n",
      "\u001b[33;1m\u001b[1;3m{messages}\u001b[0m\n"
     ]
    }
   ],
   "source": [
    "prompt_template.pretty_print()"
   ]
  },
  {
   "cell_type": "markdown",
   "id": "a741749a",
   "metadata": {},
   "source": [
    "```pycon\n",
    "Update MessageState to factor in 2 new input parameters\n",
    "```"
   ]
  },
  {
   "cell_type": "code",
   "execution_count": 147,
   "id": "cba3a527",
   "metadata": {},
   "outputs": [],
   "source": [
    "from typing import Sequence\n",
    "from langchain_core.messages import BaseMessage\n",
    "from langgraph.graph.message import add_messages\n",
    "from typing_extensions import Annotated, TypedDict"
   ]
  },
  {
   "cell_type": "code",
   "execution_count": 148,
   "id": "8a13213f",
   "metadata": {},
   "outputs": [],
   "source": [
    "# Creating a new State Object that would represent the state of the graph\n",
    "# with our new input parameters\n",
    "class State(TypedDict):\n",
    "    messages: Annotated[Sequence[BaseMessage], add_messages]\n",
    "    language: str"
   ]
  },
  {
   "cell_type": "code",
   "execution_count": 137,
   "id": "f87ad6dc",
   "metadata": {},
   "outputs": [],
   "source": [
    "workflow = StateGraph(state_schema=State)"
   ]
  },
  {
   "cell_type": "code",
   "execution_count": 130,
   "id": "c44ec02b",
   "metadata": {},
   "outputs": [],
   "source": [
    "def call_model(state: State):\n",
    "    print(state)\n",
    "    prompt = prompt_template.invoke(state)\n",
    "    response = model.invoke(prompt)\n",
    "    return {\"messages\": [response]}"
   ]
  },
  {
   "cell_type": "code",
   "execution_count": 149,
   "id": "5fb02dd4",
   "metadata": {},
   "outputs": [
    {
     "name": "stderr",
     "output_type": "stream",
     "text": [
      "Adding a node to a graph that has already been compiled. This will not be reflected in the compiled graph.\n"
     ]
    },
    {
     "ename": "ValueError",
     "evalue": "Node `model` already present.",
     "output_type": "error",
     "traceback": [
      "\u001b[31m---------------------------------------------------------------------------\u001b[39m",
      "\u001b[31mValueError\u001b[39m                                Traceback (most recent call last)",
      "\u001b[36mCell\u001b[39m\u001b[36m \u001b[39m\u001b[32mIn[149]\u001b[39m\u001b[32m, line 1\u001b[39m\n\u001b[32m----> \u001b[39m\u001b[32m1\u001b[39m \u001b[43mworkflow\u001b[49m\u001b[43m.\u001b[49m\u001b[43madd_node\u001b[49m\u001b[43m(\u001b[49m\u001b[33;43m\"\u001b[39;49m\u001b[33;43mmodel\u001b[39;49m\u001b[33;43m\"\u001b[39;49m\u001b[43m,\u001b[49m\u001b[43m \u001b[49m\u001b[43mcall_model\u001b[49m\u001b[43m)\u001b[49m\n\u001b[32m      2\u001b[39m workflow.add_edge(START, \u001b[33m\"\u001b[39m\u001b[33mmodel\u001b[39m\u001b[33m\"\u001b[39m)\n\u001b[32m      3\u001b[39m memory = MemorySaver()\n",
      "\u001b[36mFile \u001b[39m\u001b[32m~/Library/CloudStorage/OneDrive-Dyson/Devel/test/genAI/.venv/lib/python3.13/site-packages/langgraph/graph/state.py:380\u001b[39m, in \u001b[36mStateGraph.add_node\u001b[39m\u001b[34m(self, node, action, metadata, input, retry, destinations)\u001b[39m\n\u001b[32m    378\u001b[39m     \u001b[38;5;28;01mraise\u001b[39;00m \u001b[38;5;167;01mRuntimeError\u001b[39;00m\n\u001b[32m    379\u001b[39m \u001b[38;5;28;01mif\u001b[39;00m node \u001b[38;5;129;01min\u001b[39;00m \u001b[38;5;28mself\u001b[39m.nodes:\n\u001b[32m--> \u001b[39m\u001b[32m380\u001b[39m     \u001b[38;5;28;01mraise\u001b[39;00m \u001b[38;5;167;01mValueError\u001b[39;00m(\u001b[33mf\u001b[39m\u001b[33m\"\u001b[39m\u001b[33mNode `\u001b[39m\u001b[38;5;132;01m{\u001b[39;00mnode\u001b[38;5;132;01m}\u001b[39;00m\u001b[33m` already present.\u001b[39m\u001b[33m\"\u001b[39m)\n\u001b[32m    381\u001b[39m \u001b[38;5;28;01mif\u001b[39;00m node == END \u001b[38;5;129;01mor\u001b[39;00m node == START:\n\u001b[32m    382\u001b[39m     \u001b[38;5;28;01mraise\u001b[39;00m \u001b[38;5;167;01mValueError\u001b[39;00m(\u001b[33mf\u001b[39m\u001b[33m\"\u001b[39m\u001b[33mNode `\u001b[39m\u001b[38;5;132;01m{\u001b[39;00mnode\u001b[38;5;132;01m}\u001b[39;00m\u001b[33m` is reserved.\u001b[39m\u001b[33m\"\u001b[39m)\n",
      "\u001b[31mValueError\u001b[39m: Node `model` already present."
     ]
    }
   ],
   "source": [
    "workflow.add_node(\"model\", call_model)\n",
    "workflow.add_edge(START, \"model\")\n",
    "memory = MemorySaver()\n",
    "app = workflow.compile(checkpointer=memory)"
   ]
  },
  {
   "cell_type": "code",
   "execution_count": 150,
   "id": "6dae9931",
   "metadata": {},
   "outputs": [
    {
     "data": {
      "image/png": "[encoded data removed]",
      "text/plain": [
       "<langgraph.graph.state.CompiledStateGraph object at 0x121d7ee50>"
      ]
     },
     "execution_count": 150,
     "metadata": {},
     "output_type": "execute_result"
    }
   ],
   "source": [
    "app"
   ]
  },
  {
   "cell_type": "code",
   "execution_count": 151,
   "id": "1e1c2c0e",
   "metadata": {},
   "outputs": [
    {
     "name": "stdout",
     "output_type": "stream",
     "text": [
      "{'messages': [HumanMessage(content=\"Hi! I'm Bob.\", additional_kwargs={}, response_metadata={}, id='25f70f5a-7321-417d-bedd-f4db977ab4fb')], 'language': 'Japanese'}\n"
     ]
    },
    {
     "name": "stdout",
     "output_type": "stream",
     "text": [
      "==================================\u001b[1m Ai Message \u001b[0m==================================\n",
      "\n",
      "こんにちは、Bobさん！はじめまして。私はアシスタントです。何かお手伝いできることはありますか？ (Konnichiwa, Bob-san! Hajimemashite. Watashi wa assistant desu. Nani ka otetsudai dekiru koto wa arimasu ka?)\n",
      "\n",
      "(Hello Bob! Nice to meet you. I am an assistant. Is there anything I can help you with?)\n"
     ]
    }
   ],
   "source": [
    "config = {\"configurable\": {\"thread_id\": \"12\"}}\n",
    "query = \"Hi! I'm Bob.\"\n",
    "language = \"Japanese\"\n",
    "\n",
    "input_messages = [HumanMessage(query)]\n",
    "output = app.invoke(\n",
    "    {\"messages\": input_messages, \"language\": language},\n",
    "    config,\n",
    ")\n",
    "output[\"messages\"][-1].pretty_print()"
   ]
  },
  {
   "cell_type": "markdown",
   "id": "af52b5f1",
   "metadata": {},
   "source": [
    "## Managing Conversation History\n",
    "- Add steps to limit the size of messages you are passing in  \n",
    "\n",
    "If mememory is left unmanaged the list of messages will grow unbounded and potentially overflow the context window of the LLM\n"
   ]
  },
  {
   "cell_type": "code",
   "execution_count": 170,
   "id": "fc945ea9",
   "metadata": {},
   "outputs": [
    {
     "data": {
      "text/plain": [
       "[SystemMessage(content=\"you're a good assistant\", additional_kwargs={}, response_metadata={}),\n",
       " HumanMessage(content=\"hi! I'm bob\", additional_kwargs={}, response_metadata={}),\n",
       " AIMessage(content='hi!', additional_kwargs={}, response_metadata={}),\n",
       " HumanMessage(content='I like vanilla ice cream', additional_kwargs={}, response_metadata={}),\n",
       " AIMessage(content='nice', additional_kwargs={}, response_metadata={}),\n",
       " HumanMessage(content='whats 2 + 2', additional_kwargs={}, response_metadata={}),\n",
       " AIMessage(content='4', additional_kwargs={}, response_metadata={}),\n",
       " HumanMessage(content='thanks', additional_kwargs={}, response_metadata={}),\n",
       " AIMessage(content='no problem!', additional_kwargs={}, response_metadata={}),\n",
       " HumanMessage(content='having fun?', additional_kwargs={}, response_metadata={}),\n",
       " AIMessage(content='yes!', additional_kwargs={}, response_metadata={})]"
      ]
     },
     "execution_count": 170,
     "metadata": {},
     "output_type": "execute_result"
    }
   ],
   "source": [
    "from langchain_core.messages import SystemMessage, trim_messages\n",
    "\n",
    "trimmer = trim_messages(\n",
    "    max_tokens=65,\n",
    "    strategy=\"last\",\n",
    "    token_counter=model,\n",
    "    include_system=True,\n",
    "    allow_partial=False,\n",
    "    start_on=\"human\",\n",
    ")\n",
    "\n",
    "messages = [\n",
    "    SystemMessage(content=\"you're a good assistant\"),\n",
    "    HumanMessage(content=\"hi! I'm bob\"),\n",
    "    AIMessage(content=\"hi!\"),\n",
    "    HumanMessage(content=\"I like vanilla ice cream\"),\n",
    "    AIMessage(content=\"nice\"),\n",
    "    HumanMessage(content=\"whats 2 + 2\"),\n",
    "    AIMessage(content=\"4\"),\n",
    "    HumanMessage(content=\"thanks\"),\n",
    "    AIMessage(content=\"no problem!\"),\n",
    "    HumanMessage(content=\"having fun?\"),\n",
    "    AIMessage(content=\"yes!\"),\n",
    "]\n",
    "\n",
    "trimmer.invoke(messages)"
   ]
  },
  {
   "cell_type": "code",
   "execution_count": 180,
   "id": "54e76b1c",
   "metadata": {},
   "outputs": [],
   "source": [
    "workflow = StateGraph(state_schema=State)\n",
    "\n",
    "def call_model(state: State):\n",
    "    trimmed_messages = trimmer.invoke(state[\"messages\"])\n",
    "    prompt = prompt_template.invoke(\n",
    "        {\"messages\": trimmed_messages, \"language\": state[\"language\"]}\n",
    "    )\n",
    "    response = model.invoke(prompt)\n",
    "    return {\"messages\": [response], \"language\": state[\"language\"]+\"chicken\"}\n",
    "\n",
    "workflow.add_node(\"model\", call_model)\n",
    "workflow.add_edge(START, \"model\")\n",
    "memory = MemorySaver()\n",
    "app = workflow.compile(checkpointer=memory)"
   ]
  },
  {
   "cell_type": "code",
   "execution_count": 181,
   "id": "f48c29b6",
   "metadata": {},
   "outputs": [
    {
     "data": {
      "image/png": "[encoded data removed]",
      "text/plain": [
       "<langgraph.graph.state.CompiledStateGraph object at 0x124a02450>"
      ]
     },
     "execution_count": 181,
     "metadata": {},
     "output_type": "execute_result"
    }
   ],
   "source": [
    "app"
   ]
  },
  {
   "cell_type": "code",
   "execution_count": 182,
   "id": "d1363768",
   "metadata": {},
   "outputs": [
    {
     "name": "stdout",
     "output_type": "stream",
     "text": [
      "==================================\u001b[1m Ai Message \u001b[0m==================================\n",
      "\n",
      "Your name is Bob! You told me earlier. 😊\n"
     ]
    }
   ],
   "source": [
    "config = {\"configurable\": {\"thread_id\": \"abc567\"}}\n",
    "query = \"What is my name?\"\n",
    "language = \"English\"\n",
    "\n",
    "input_messages = messages + [HumanMessage(query)]\n",
    "output = app.invoke(\n",
    "    {\"messages\": input_messages, \"language\": language},\n",
    "    config,\n",
    ")\n",
    "output[\"messages\"][-1].pretty_print()"
   ]
  },
  {
   "cell_type": "code",
   "execution_count": 183,
   "id": "9d3a8c19",
   "metadata": {},
   "outputs": [
    {
     "data": {
      "text/plain": [
       "{'messages': [SystemMessage(content=\"you're a good assistant\", additional_kwargs={}, response_metadata={}, id='de850b94-5cec-484f-aae6-e6555636a1d8'),\n",
       "  HumanMessage(content=\"hi! I'm bob\", additional_kwargs={}, response_metadata={}, id='fe3f4b4a-112b-4377-9dfd-ea3e8b8ac730'),\n",
       "  AIMessage(content='hi!', additional_kwargs={}, response_metadata={}, id='d81255fc-7db1-4be4-99b4-83c71740d926'),\n",
       "  HumanMessage(content='I like vanilla ice cream', additional_kwargs={}, response_metadata={}, id='030ec989-cfd8-47aa-b823-a10cba89ae27'),\n",
       "  AIMessage(content='nice', additional_kwargs={}, response_metadata={}, id='d93d8e43-ba6f-4099-a1ea-00273ef02a2e'),\n",
       "  HumanMessage(content='whats 2 + 2', additional_kwargs={}, response_metadata={}, id='38339f05-276b-42bf-9aec-000421d5c045'),\n",
       "  AIMessage(content='4', additional_kwargs={}, response_metadata={}, id='f9ab9315-528a-4827-a527-35dafe3e5e1f'),\n",
       "  HumanMessage(content='thanks', additional_kwargs={}, response_metadata={}, id='0457a942-19d0-4a4e-bd74-2c92657ae357'),\n",
       "  AIMessage(content='no problem!', additional_kwargs={}, response_metadata={}, id='dcbd8caa-fd28-48fa-a3ff-d86dc64a547a'),\n",
       "  HumanMessage(content='having fun?', additional_kwargs={}, response_metadata={}, id='de1c0619-c67d-4e62-aec6-85bbc91f553b'),\n",
       "  AIMessage(content='yes!', additional_kwargs={}, response_metadata={}, id='e5aeb8c0-ef84-45df-aca0-6487cd7caa70'),\n",
       "  HumanMessage(content='What is my name?', additional_kwargs={}, response_metadata={}, id='756076c4-3c81-469f-aee7-501663bfdb67'),\n",
       "  AIMessage(content='Your name is Bob! You told me earlier. 😊', additional_kwargs={}, response_metadata={'model': 'gemma3:12b-it-qat', 'created_at': '2025-04-22T09:03:45.367868Z', 'done': True, 'done_reason': 'stop', 'total_duration': 4667638917, 'load_duration': 60297333, 'prompt_eval_count': 124, 'prompt_eval_duration': 3693222625, 'eval_count': 12, 'eval_duration': 907927000, 'model_name': 'gemma3:12b-it-qat'}, id='run-edd54d06-deee-4843-8300-b075546de986-0', usage_metadata={'input_tokens': 124, 'output_tokens': 12, 'total_tokens': 136})],\n",
       " 'language': 'Englishchicken'}"
      ]
     },
     "execution_count": 183,
     "metadata": {},
     "output_type": "execute_result"
    }
   ],
   "source": [
    "output"
   ]
  },
  {
   "cell_type": "markdown",
   "id": "808bc1b8",
   "metadata": {},
   "source": [
    "## Adding Streaming"
   ]
  },
  {
   "cell_type": "code",
   "execution_count": null,
   "id": "d39ed584",
   "metadata": {},
   "outputs": [
    {
     "name": "stdout",
     "output_type": "stream",
     "text": [
      "Hi| Todd|!| Glad| to| meet| you|.| Here|'|s| a| joke| for| you|:|\n",
      "\n",
      "|Why| don|'|t| scientists| trust| atoms|?|\n",
      "\n",
      "|Because| they| make| up| everything|!| 😂|\n",
      "\n",
      "|Hope| that| gave| you| a| chuckle|!||"
     ]
    }
   ],
   "source": [
    "config = {\"configurable\": {\"thread_id\": \"abc789\"}}\n",
    "query = \"Hi I'm Todd, please tell me a joke.\"\n",
    "language = \"English\"\n",
    "\n",
    "input_messages = [HumanMessage(query)]\n",
    "async for chunk, metadata in app.astream(\n",
    "    {\"messages\": input_messages, \"language\": language},\n",
    "    config,\n",
    "    stream_mode=\"messages\",\n",
    "):\n",
    "    if isinstance(chunk, AIMessage):  # Filter to just model responses\n",
    "        print(chunk.content, end=\"|\")"
   ]
  },
  {
   "cell_type": "code",
   "execution_count": null,
   "id": "23f4d666",
   "metadata": {},
   "outputs": [],
   "source": []
  }
 ],
 "metadata": {
  "kernelspec": {
   "display_name": ".venv",
   "language": "python",
   "name": "python3"
  },
  "language_info": {
   "codemirror_mode": {
    "name": "ipython",
    "version": 3
   },
   "file_extension": ".py",
   "mimetype": "text/x-python",
   "name": "python",
   "nbconvert_exporter": "python",
   "pygments_lexer": "ipython3",
   "version": "3.13.3"
  }
 },
 "nbformat": 4,
 "nbformat_minor": 5
}
