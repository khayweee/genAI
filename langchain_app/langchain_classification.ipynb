{
 "cells": [
  {
   "cell_type": "markdown",
   "id": "d1b427de",
   "metadata": {},
   "source": [
    "# Classification using LLM  \n",
    "Classifying text into labels  \n",
    "1. Sentiment\n",
    "2. Language\n",
    "3. Style (formal, informal etc.)\n",
    "4. Covered topics\n",
    "5. Political tendency\n",
    "\n",
    "## Overview\n",
    "Tagging has a few components:\n",
    "1. `function`: Like extraction, tagging uses functions to specify how the model should tag a document\n",
    "2. `schema`: Define how we want to tag the document"
   ]
  },
  {
   "cell_type": "code",
   "execution_count": 17,
   "id": "5ba52d6e",
   "metadata": {},
   "outputs": [],
   "source": [
    "# Imports\n",
    "from langchain_core.prompts import ChatPromptTemplate\n",
    "from langchain.chat_models import init_chat_model\n",
    "from pydantic import BaseModel, Field\n",
    "from enum import Enum"
   ]
  },
  {
   "cell_type": "code",
   "execution_count": 2,
   "id": "b635426e",
   "metadata": {},
   "outputs": [],
   "source": [
    "TEMPERATURE = 0.0\n",
    "NUM_PREDICT = 256\n",
    "MODEL = \"gemma3:12b-it-qat\"\n",
    "\n",
    "model = init_chat_model(\n",
    "    model=MODEL,\n",
    "    temperature=TEMPERATURE,\n",
    "    num_predict=NUM_PREDICT,\n",
    "    use_gpu=True,\n",
    "    model_provider='ollama',\n",
    ")"
   ]
  },
  {
   "cell_type": "code",
   "execution_count": 22,
   "id": "40c892cf",
   "metadata": {},
   "outputs": [],
   "source": [
    "# Define the prompt template\n",
    "tagging_prompt = ChatPromptTemplate.from_template(\n",
    "    \"\"\"\n",
    "    Extract the desired information from the following passage.\n",
    "\n",
    "    Only extract the properties mentioned in the 'CombinedOutput' section.\n",
    "    \n",
    "    Passage:\n",
    "    {input}\n",
    "    \"\"\"\n",
    ")"
   ]
  },
  {
   "cell_type": "code",
   "execution_count": 23,
   "id": "880c0435",
   "metadata": {},
   "outputs": [],
   "source": [
    "\n",
    "class Sentiment(str, Enum):\n",
    "    \"\"\"\n",
    "    Enum for sentiment classification.\n",
    "    \"\"\"\n",
    "    positive = \"positive\"\n",
    "    negative = \"negative\"\n",
    "    neutral = \"neutral\"\n",
    "\n",
    "class Classification(BaseModel):\n",
    "    \"\"\"\n",
    "    Classification model to extract properties from the passage.\n",
    "    \"\"\"\n",
    "    sentiment: Sentiment = Field(desctription='The sentiment of the text')\n",
    "    aggressiveness: int = Field(description='How aggressive the text is on a scale from 1 to 10')\n",
    "    language: str = Field(description='The language of the text')\n",
    "    topic: str = Field(description='The topic of the text')\n",
    "\n",
    "class WordCount(BaseModel):\n",
    "    \"\"\"\n",
    "    Word count model to extract the number of words in the passage.\n",
    "    \"\"\"\n",
    "    word_count: int = Field(description='The number of words in the text')\n",
    "\n",
    "class CombinedOutput(BaseModel):\n",
    "    \"\"\"\n",
    "    Combined output model to hold both classification and word count.\n",
    "    \"\"\"\n",
    "    classification: Classification = Field(description='The classification of the text')\n",
    "    word_count: WordCount = Field(description='The word count of the text')\n"
   ]
  },
  {
   "cell_type": "code",
   "execution_count": 24,
   "id": "19cf9617",
   "metadata": {},
   "outputs": [],
   "source": [
    "# LLM\n",
    "llm = model.with_structured_output(\n",
    "    CombinedOutput\n",
    ")"
   ]
  },
  {
   "cell_type": "code",
   "execution_count": 25,
   "id": "edf43923",
   "metadata": {},
   "outputs": [],
   "source": [
    "inp = \"Singapore is a strong financial hub in Asia. The economy is growing rapidly, and the government is supportive of the business environment\"\n",
    "prompt = tagging_prompt.invoke({\"input\": inp})\n",
    "response = llm.invoke(prompt)"
   ]
  },
  {
   "cell_type": "code",
   "execution_count": 26,
   "id": "b84aff28",
   "metadata": {},
   "outputs": [
    {
     "name": "stdout",
     "output_type": "stream",
     "text": [
      "classification=Classification(sentiment=<Sentiment.positive: 'positive'>, aggressiveness=0, language='english', topic='economy') word_count=WordCount(word_count=23)\n"
     ]
    }
   ],
   "source": [
    "print(response)"
   ]
  }
 ],
 "metadata": {
  "kernelspec": {
   "display_name": ".venv",
   "language": "python",
   "name": "python3"
  },
  "language_info": {
   "codemirror_mode": {
    "name": "ipython",
    "version": 3
   },
   "file_extension": ".py",
   "mimetype": "text/x-python",
   "name": "python",
   "nbconvert_exporter": "python",
   "pygments_lexer": "ipython3",
   "version": "3.13.3"
  }
 },
 "nbformat": 4,
 "nbformat_minor": 5
}
